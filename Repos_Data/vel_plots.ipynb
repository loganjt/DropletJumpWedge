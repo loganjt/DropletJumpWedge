{
 "cells": [
  {
   "cell_type": "code",
   "execution_count": 2,
   "metadata": {
    "collapsed": true
   },
   "outputs": [],
   "source": [
    "import os, glob, numpy as np, csv, math\n",
    "import matplotlib.pyplot as plt\n",
    "from scipy import signal, fftpack\n",
    "from matplotlib.legend_handler import HandlerLine2D\n",
    "%matplotlib inline\n",
    "%config InlineBackend.figure_format = 'retina'\n",
    "\n",
    "\n",
    "dir_path = os.path.dirname(os.path.realpath('plotter_notebook.ipynb'))\n",
    "wrkdir = os.path.join(dir_path,'data')\n",
    "csv_files = os.path.join(wrkdir,'*.csv')\n",
    "meta_files = os.path.join(wrkdir,'*.txt')\n",
    "trackdata = glob.glob(csv_files)\n",
    "metadata = glob.glob(meta_files)\n",
    "n_files = np.size(trackdata)\n",
    "\n",
    "location = 'average'\n",
    "volumes = [0.5,1.0,2.0,5.0,10.0]\n",
    "angles= [2.0,3.5,5.0]\n",
    "\n",
    "def get_variables(metadata):\n",
    "    f = open(metadata[0],\"r\")\n",
    "    drop_vars = list(csv.reader(f))\n",
    "    f.close()\n",
    "    \n",
    "    \n",
    "    drop_meta = {}\n",
    "    for i in range(n_files):\n",
    "        drop_meta[drop_vars[i+1][0]] = {}\n",
    "        n_meta = np.size(drop_vars[0][1:])\n",
    "        for n in range(n_meta):\n",
    "            drop_meta[drop_vars[i+1][0]][drop_vars[0][n+1].split('_')[0]] = float(drop_vars[i+1][n+1])\n",
    "\n",
    "    meta = drop_meta\n",
    "    return meta\n",
    "\n",
    "meta = get_variables(metadata)\n",
    "\n",
    "def get_data(wrkdir,csv_files,trackdata,n_files):\n",
    "    \n",
    "    total_drop_data = {}\n",
    "    \n",
    "    \n",
    "    for i in range(n_files):\n",
    "        (location, name) = os.path.split( trackdata[i] )\n",
    "        \n",
    "        f = open(trackdata[i],\"r\")\n",
    "        drop_data = list(csv.reader(f))\n",
    "        f.close()\n",
    "        \n",
    "        col_names = drop_data[0]\n",
    "        n_col = np.size(drop_data[0])\n",
    "        drop_data = np.asarray(drop_data[1:],dtype=float)\n",
    "        total_drop_data[name[:-4]] = {}\n",
    "        for j in range(n_col):\n",
    "            total_drop_data[name[:-4]][col_names[j]] = drop_data[:,j]\n",
    "\n",
    "    return total_drop_data\n",
    "\n",
    "data = get_data(wrkdir,csv_files,trackdata,n_files)\n",
    "\n",
    "def basic_plot_format(subplot_label,x_label,y_label,major_grid,minor_grid,legend):\n",
    "    # General plot formatting for relatively good plots. adjustments may be necessary\n",
    "    # sub_plot_label, usually defined by 'ax' and a number\n",
    "    # x_label and y_label must be type 'str'... Can use LaTeX for typsetting\n",
    "    # major_grid, minor_grid, and legend are boolean\n",
    "    \n",
    "    plt.style.use('classic')\n",
    "    font = {'family' : 'Times New Roman',\n",
    "            'weight' : 0,\n",
    "            'size'   : 16}\n",
    "    plt.rc('font',**font)\n",
    "    \n",
    "    subplot_label.spines['right'].set_color('none')\n",
    "    subplot_label.spines['top'].set_color('none')\n",
    "    subplot_label.yaxis.set_ticks_position('left')\n",
    "    subplot_label.xaxis.set_ticks_position('bottom')\n",
    "    subplot_label.minorticks_on()\n",
    "    subplot_label.set_xlabel(x_label,fontsize=18)\n",
    "    subplot_label.set_ylabel(y_label,fontsize=18)\n",
    "\n",
    "    subplot_label.grid(b=major_grid,which='major')\n",
    "    subplot_label.grid(b=minor_grid,which='minor')\n",
    "    \n",
    "    if legend == False:\n",
    "         0   \n",
    "    else:\n",
    "        legend =  subplot_label.legend(numpoints = 1,bbox_to_anchor=(1, 1),loc='upper left',frameon=False,fontsize=10)\n",
    "        legend.get_frame().set_facecolor('white')\n",
    "        return legend"
   ]
  },
  {
   "cell_type": "code",
   "execution_count": 5,
   "metadata": {},
   "outputs": [
    {
     "ename": "AttributeError",
     "evalue": "'dict' object has no attribute 'iteritems'",
     "output_type": "error",
     "traceback": [
      "\u001b[1;31m---------------------------------------------------------------------------\u001b[0m",
      "\u001b[1;31mAttributeError\u001b[0m                            Traceback (most recent call last)",
      "\u001b[1;32m<ipython-input-5-d01925be7a84>\u001b[0m in \u001b[0;36m<module>\u001b[1;34m()\u001b[0m\n\u001b[0;32m      8\u001b[0m     \u001b[0mconf_parameter\u001b[0m\u001b[1;33m[\u001b[0m\u001b[0mkey\u001b[0m\u001b[1;33m]\u001b[0m \u001b[1;33m=\u001b[0m \u001b[0mxi\u001b[0m\u001b[1;33m*\u001b[0m\u001b[1;33m(\u001b[0m\u001b[1;33m(\u001b[0m\u001b[1;36m4\u001b[0m\u001b[1;33m*\u001b[0m\u001b[0mmath\u001b[0m\u001b[1;33m.\u001b[0m\u001b[0mpi\u001b[0m\u001b[1;33m)\u001b[0m\u001b[1;33m/\u001b[0m\u001b[1;33m(\u001b[0m\u001b[1;36m3\u001b[0m\u001b[1;33m*\u001b[0m\u001b[0mV\u001b[0m\u001b[1;33m)\u001b[0m\u001b[1;33m)\u001b[0m\u001b[1;33m**\u001b[0m\u001b[1;33m(\u001b[0m\u001b[1;36m1\u001b[0m\u001b[1;33m/\u001b[0m\u001b[1;36m3.\u001b[0m\u001b[1;33m)\u001b[0m\u001b[1;33m*\u001b[0m\u001b[0mmath\u001b[0m\u001b[1;33m.\u001b[0m\u001b[0msin\u001b[0m\u001b[1;33m(\u001b[0m\u001b[0malpha\u001b[0m\u001b[1;33m)\u001b[0m\u001b[1;33m\u001b[0m\u001b[0m\n\u001b[0;32m      9\u001b[0m \u001b[1;33m\u001b[0m\u001b[0m\n\u001b[1;32m---> 10\u001b[1;33m \u001b[0msorted\u001b[0m\u001b[1;33m(\u001b[0m\u001b[0mconf_parameter\u001b[0m\u001b[1;33m.\u001b[0m\u001b[0miteritems\u001b[0m\u001b[1;33m(\u001b[0m\u001b[1;33m)\u001b[0m\u001b[1;33m)\u001b[0m\u001b[1;33m\u001b[0m\u001b[0m\n\u001b[0m",
      "\u001b[1;31mAttributeError\u001b[0m: 'dict' object has no attribute 'iteritems'"
     ]
    },
    {
     "data": {
      "text/plain": [
       "<matplotlib.figure.Figure at 0x4a4efd0>"
      ]
     },
     "metadata": {},
     "output_type": "display_data"
    },
    {
     "data": {
      "text/plain": [
       "<matplotlib.figure.Figure at 0x4a4e710>"
      ]
     },
     "metadata": {},
     "output_type": "display_data"
    }
   ],
   "source": [
    "conf_parameter = {}\n",
    "for key in sorted(data):\n",
    "    xi = data[key][location][0]/1000                                             # m\n",
    "    V = meta[key]['Volume']*(10**(-6))                                           # m^3\n",
    "    alpha = (meta[key]['Angle']/2.)*(math.pi/180.)                               # rad\n",
    "    conf_parameter[key] = xi*((4*math.pi)/(3*V))**(1/3.)*math.sin(alpha)\n",
    "\n",
    "for key in sorted(meta, key = lambda x: meta[x]['ILback']):\n",
    "    fig[i] = plt.figure(facecolor=whi)"
   ]
  }
 ],
 "metadata": {
  "kernelspec": {
   "display_name": "Python 3",
   "language": "python",
   "name": "python3"
  },
  "language_info": {
   "codemirror_mode": {
    "name": "ipython",
    "version": 3
   },
   "file_extension": ".py",
   "mimetype": "text/x-python",
   "name": "python",
   "nbconvert_exporter": "python",
   "pygments_lexer": "ipython3",
   "version": "3.6.1"
  }
 },
 "nbformat": 4,
 "nbformat_minor": 2
}
