{
 "cells": [
  {
   "cell_type": "code",
   "execution_count": null,
   "metadata": {
    "collapsed": true
   },
   "outputs": [],
   "source": [
    "import os, glob, numpy as np, csv, math\n",
    "import matplotlib.pyplot as plt\n",
    "from scipy import signal, fftpack\n",
    "from matplotlib.legend_handler import HandlerLine2D\n",
    "%matplotlib inline\n",
    "%config InlineBackend.figure_format = 'retina'\n",
    "\n",
    "\n",
    "dir_path = os.path.dirname(os.path.realpath('plotter_notebook.ipynb'))\n",
    "wrkdir = os.path.join(dir_path,'data')\n",
    "csv_files = os.path.join(wrkdir,'*.csv')\n",
    "meta_files = os.path.join(wrkdir,'*.txt')\n",
    "trackdata = glob.glob(csv_files)\n",
    "metadata = glob.glob(meta_files)\n",
    "n_files = np.size(trackdata)\n",
    "\n",
    "location = 'average'\n",
    "volumes = [0.5,1.0,2.0,5.0,10.0]\n",
    "angles= [2.0,3.5,5.0]\n",
    "\n",
    "def basic_plot_format(subplot_label,x_label,y_label,major_grid,minor_grid,legend):\n",
    "    # General plot formatting for relatively good plots. adjustments may be necessary\n",
    "    # sub_plot_label, usually defined by 'ax' and a number\n",
    "    # x_label and y_label must be type 'str'... Can use LaTeX for typsetting\n",
    "    # major_grid, minor_grid, and legend are boolean\n",
    "    \n",
    "    plt.style.use('classic')\n",
    "    font = {'family' : 'Times New Roman',\n",
    "            'weight' : 0,\n",
    "            'size'   : 16}\n",
    "    plt.rc('font',**font)\n",
    "    \n",
    "    subplot_label.spines['right'].set_color('none')\n",
    "    subplot_label.spines['top'].set_color('none')\n",
    "    subplot_label.yaxis.set_ticks_position('left')\n",
    "    subplot_label.xaxis.set_ticks_position('bottom')\n",
    "    subplot_label.minorticks_on()\n",
    "    subplot_label.set_xlabel(x_label,fontsize=18)\n",
    "    subplot_label.set_ylabel(y_label,fontsize=18)\n",
    "\n",
    "    subplot_label.grid(b=major_grid,which='major')\n",
    "    subplot_label.grid(b=minor_grid,which='minor')\n",
    "    \n",
    "    if legend == False:\n",
    "         0   \n",
    "    else:\n",
    "        legend =  subplot_label.legend(numpoints = 1,bbox_to_anchor=(1, 1),loc='upper left',frameon=False,fontsize=10)\n",
    "        legend.get_frame().set_facecolor('white')\n",
    "        return legend"
   ]
  }
 ],
 "metadata": {
  "kernelspec": {
   "display_name": "Python 3",
   "language": "python",
   "name": "python3"
  },
  "language_info": {
   "codemirror_mode": {
    "name": "ipython",
    "version": 3
   },
   "file_extension": ".py",
   "mimetype": "text/x-python",
   "name": "python",
   "nbconvert_exporter": "python",
   "pygments_lexer": "ipython3",
   "version": "3.6.1"
  }
 },
 "nbformat": 4,
 "nbformat_minor": 2
}
